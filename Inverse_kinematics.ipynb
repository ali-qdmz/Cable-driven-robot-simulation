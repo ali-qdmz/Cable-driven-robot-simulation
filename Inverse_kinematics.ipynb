{
 "cells": [
  {
   "cell_type": "code",
   "execution_count": 3,
   "metadata": {},
   "outputs": [],
   "source": [
    "import math\n",
    "import numpy as np\n",
    "\n",
    "def f(x,y,start_pos,start_t,end_t):\n",
    "    x = x * (-1)\n",
    "    A_x = [-1150,1150,0,0]\n",
    "    A_y = [0,0,1150,-1150]\n",
    "\n",
    "    l_init = np.array([1150,1150,1150,1150])\n",
    "    l = np.array([1100,1100,1100,1100])\n",
    "\n",
    "    for i in range(len(l)):\n",
    "        l[i] = math.sqrt((x - A_x[i])**2 + (y - A_y[i])**2)\n",
    "        \n",
    "#     print(l)\n",
    "    final = l - l_init\n",
    "    final_str = []\n",
    "    for i in range(1,len(final) + 1):\n",
    "        if i == 2:\n",
    "            final[i-1] = final[i-1] * (-1)\n",
    "        if i == 3:\n",
    "            final[i-1] = final[i-1] * (-1)\n",
    "        if start_pos == 0:\n",
    "            final_str.append(\"STEP(time,\" + str(start_t) + \",\" + str(start_pos) + \",\" + str(end_t) + \",\" + str(final[i-1]/10) +\")\")    \n",
    "        else:\n",
    "            final_str.append(\"STEP(time,\" + str(start_t) + \",\" + str(float(start_pos[i-1].split(\",\")[-1].replace(\")\",\"\"))) + \",\" + str(end_t) + \",\" + str(final[i-1]/10) +\")\")    \n",
    "    return final_str\n",
    "\n",
    "\n",
    "def create_motion_code(time_interval,z):\n",
    "    file = open(\"data.txt\")\n",
    "    i = 0\n",
    "    if z != 0:\n",
    "        j = time_interval\n",
    "    else:\n",
    "        j = 0\n",
    "    path = []\n",
    "    while True:\n",
    "\n",
    "        d = file.readline()\n",
    "        if d == '':\n",
    "            break\n",
    "        d = d.replace(\"\\n\",\"\").split(\" \")\n",
    "        d = list(map(float,d))\n",
    "    #     print(d)\n",
    "        if i == 0:\n",
    "            path.append(f(d[0],d[1],0,j,j+time_interval))\n",
    "        else:\n",
    "            path.append(f(d[0],d[1],path[i-1],j,j+time_interval))\n",
    "\n",
    "        i += 1\n",
    "        j += time_interval\n",
    "\n",
    "    for j in range(4):\n",
    "        print(j+1)\n",
    "        for i in range(len(path)):\n",
    "            if i != len(path) - 1:\n",
    "                if z != 0:\n",
    "                    if j == 1 or j == 3:\n",
    "                        if i == 0:\n",
    "                            print(\"STEP(time,0,0,\" + str(time_interval) + \",\" + str(z) + \") +\" + path[i][j], end = \" + \")\n",
    "                        else:\n",
    "                            print(path[i][j], end = \" + \")\n",
    "                    else:\n",
    "                        if i == 0:\n",
    "                            print(\"STEP(time,0,0,\" + str(time_interval) + \",\" + str(-z) + \") + \" + path[i][j], end = \" + \")\n",
    "                        else:\n",
    "                            print(path[i][j], end = \" + \")\n",
    "                else:\n",
    "                    print(path[i][j], end = \" + \")\n",
    "            else:\n",
    "                if z != 0:\n",
    "                    if j == 1 or j == 3:\n",
    "                        if  i == 0:\n",
    "                            print(\"STEP(time,0,0,\" + str(time_interval) + \",\" + str(z) + \") + \" + path[i][j], end = \" + \")\n",
    "                        else:\n",
    "                            print(path[i][j])\n",
    "                    else:\n",
    "                        if i == 0:\n",
    "                            print(\"STEP(time,0,0,\" + str(time_interval) + \",\" + str(-z) + \") + \" + path[i][j], end = \" + \")\n",
    "                        else:\n",
    "                            print(path[i][j])\n",
    "                else:\n",
    "                    print(path[i][j])  \n",
    "                    \n",
    "\n",
    "        print(\"===============================\")\n",
    "\n",
    "        "
   ]
  },
  {
   "cell_type": "code",
   "execution_count": 4,
   "metadata": {},
   "outputs": [
    {
     "name": "stdout",
     "output_type": "stream",
     "text": [
      "1\n",
      "STEP(time,0,0,0.5,-0.5) + STEP(time,0.5,0,1.0,-2.0) + STEP(time,1.0,-2.0,1.5,2.0) + STEP(time,1.5,2.0,2.0,2.0) + STEP(time,2.0,2.0,2.5,-2.0) + STEP(time,2.5,-2.0,3.0,-2.0)\n",
      "===============================\n",
      "2\n",
      "STEP(time,0,0,0.5,0.5) +STEP(time,0.5,0,1.0,-2.0) + STEP(time,1.0,-2.0,1.5,2.0) + STEP(time,1.5,2.0,2.0,2.0) + STEP(time,2.0,2.0,2.5,-2.0) + STEP(time,2.5,-2.0,3.0,-2.0)\n",
      "===============================\n",
      "3\n",
      "STEP(time,0,0,0.5,-0.5) + STEP(time,0.5,0,1.0,2.0) + STEP(time,1.0,2.0,1.5,2.0) + STEP(time,1.5,2.0,2.0,-2.0) + STEP(time,2.0,-2.0,2.5,-2.0) + STEP(time,2.5,-2.0,3.0,2.0)\n",
      "===============================\n",
      "4\n",
      "STEP(time,0,0,0.5,0.5) +STEP(time,0.5,0,1.0,2.0) + STEP(time,1.0,2.0,1.5,2.0) + STEP(time,1.5,2.0,2.0,-2.0) + STEP(time,2.0,-2.0,2.5,-2.0) + STEP(time,2.5,-2.0,3.0,2.0)\n",
      "===============================\n"
     ]
    }
   ],
   "source": [
    "create_motion_code(time_interval=.5,z=.5)"
   ]
  },
  {
   "cell_type": "code",
   "execution_count": null,
   "metadata": {},
   "outputs": [],
   "source": []
  },
  {
   "cell_type": "code",
   "execution_count": null,
   "metadata": {},
   "outputs": [],
   "source": []
  },
  {
   "cell_type": "code",
   "execution_count": 2,
   "metadata": {},
   "outputs": [],
   "source": []
  },
  {
   "cell_type": "code",
   "execution_count": null,
   "metadata": {},
   "outputs": [],
   "source": []
  },
  {
   "cell_type": "code",
   "execution_count": null,
   "metadata": {},
   "outputs": [],
   "source": []
  },
  {
   "cell_type": "code",
   "execution_count": null,
   "metadata": {},
   "outputs": [],
   "source": []
  },
  {
   "cell_type": "code",
   "execution_count": null,
   "metadata": {},
   "outputs": [],
   "source": []
  },
  {
   "cell_type": "code",
   "execution_count": null,
   "metadata": {},
   "outputs": [],
   "source": []
  },
  {
   "cell_type": "code",
   "execution_count": 370,
   "metadata": {},
   "outputs": [],
   "source": []
  },
  {
   "cell_type": "code",
   "execution_count": null,
   "metadata": {},
   "outputs": [],
   "source": []
  },
  {
   "cell_type": "code",
   "execution_count": null,
   "metadata": {},
   "outputs": [],
   "source": []
  },
  {
   "cell_type": "code",
   "execution_count": 7,
   "metadata": {},
   "outputs": [],
   "source": []
  },
  {
   "cell_type": "code",
   "execution_count": 299,
   "metadata": {},
   "outputs": [
    {
     "data": {
      "text/html": [
       "<style>.container { width:100% !important; }</style>"
      ],
      "text/plain": [
       "<IPython.core.display.HTML object>"
      ]
     },
     "metadata": {},
     "output_type": "display_data"
    }
   ],
   "source": [
    "from IPython.core.display import display, HTML\n",
    "display(HTML(\"<style>.container { width:100% !important; }</style>\"))"
   ]
  },
  {
   "cell_type": "code",
   "execution_count": null,
   "metadata": {},
   "outputs": [],
   "source": []
  }
 ],
 "metadata": {
  "kernelspec": {
   "display_name": "Python 3",
   "language": "python",
   "name": "python3"
  },
  "language_info": {
   "codemirror_mode": {
    "name": "ipython",
    "version": 3
   },
   "file_extension": ".py",
   "mimetype": "text/x-python",
   "name": "python",
   "nbconvert_exporter": "python",
   "pygments_lexer": "ipython3",
   "version": "3.7.0"
  }
 },
 "nbformat": 4,
 "nbformat_minor": 2
}
